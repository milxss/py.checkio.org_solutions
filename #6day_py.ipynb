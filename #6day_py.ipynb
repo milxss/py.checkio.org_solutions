{
  "nbformat": 4,
  "nbformat_minor": 0,
  "metadata": {
    "colab": {
      "provenance": [],
      "authorship_tag": "ABX9TyPfLB6k3KkhIp0Bgs1kgpVL",
      "include_colab_link": true
    },
    "kernelspec": {
      "name": "python3",
      "display_name": "Python 3"
    },
    "language_info": {
      "name": "python"
    }
  },
  "cells": [
    {
      "cell_type": "markdown",
      "metadata": {
        "id": "view-in-github",
        "colab_type": "text"
      },
      "source": [
        "<a href=\"https://colab.research.google.com/github/milxss/py.checkio.org_solutions/blob/main/%236day_py.ipynb\" target=\"_parent\"><img src=\"https://colab.research.google.com/assets/colab-badge.svg\" alt=\"Open In Colab\"/></a>"
      ]
    },
    {
      "cell_type": "markdown",
      "source": [
        "# #1 Sort Except Zero\n",
        "Sort the integers in a list. But the position of zeros should not be changed.\n",
        "\n",
        "Input: A list of integers.\n",
        "\n",
        "Output: A list or another Iterable (tuple, generator, iterator) of integers.\n",
        "\n",
        "Examples:\n",
        "\n",
        "assert list(except_zero([5, 3, 0, 0, 4, 1, 4, 0, 7])) == [1, 3, 0, 0, 4, 4, 5, 0, 7]\n",
        "\n",
        "assert list(except_zero([0, 2, 3, 1, 0, 4, 5])) == [0, 1, 2, 3, 0, 4, 5]\n",
        "\n",
        "assert list(except_zero([0, 0, 0, 1, 0])) == [0, 0, 0, 1, 0]\n",
        "\n",
        "assert list(except_zero([4, 5, 3, 1, 1])) == [1, 1, 3, 4, 5]\n",
        "\n",
        "Precondition:\n",
        "\n",
        "All numbers are positive.\n",
        "\n"
      ],
      "metadata": {
        "id": "dCtmn9buPhrf"
      }
    },
    {
      "cell_type": "code",
      "execution_count": 1,
      "metadata": {
        "colab": {
          "base_uri": "https://localhost:8080/"
        },
        "id": "Y826wfsTL4eL",
        "outputId": "10f6c44f-e051-48f0-a786-14da18a717a4"
      },
      "outputs": [
        {
          "output_type": "stream",
          "name": "stdout",
          "text": [
            "Example:\n",
            "[1, 3, 0, 0, 4, 4, 5, 0, 7]\n",
            "The mission is done! Click 'Check Solution' to earn rewards!\n"
          ]
        }
      ],
      "source": [
        "from collections.abc import Iterable\n",
        "\n",
        "\n",
        "def except_zero(items: list[int]) -> Iterable[int]:\n",
        "    zeros = [i for i, x in enumerate(items) if x == 0]  # find positions of zeros\n",
        "    items = [x for x in items if x != 0]  # remove zeros from list\n",
        "    items.sort()  # sort remaining elements\n",
        "    for zero in zeros:  # insert zeros back into their original positions\n",
        "        items.insert(zero, 0)\n",
        "    return items\n",
        "\n",
        "\n",
        "print(\"Example:\")\n",
        "print(list(except_zero([5, 3, 0, 0, 4, 1, 4, 0, 7])))\n",
        "\n",
        "# These \"asserts\" are used for self-checking\n",
        "#assert list(except_zero([5, 3, 0, 0, 4, 1, 4, 0, 7])) == [1, 3, 0, 0, 4, 4, 5, 0, 7]\n",
        "#assert list(except_zero([0, 2, 3, 1, 0, 4, 5])) == [0, 1, 2, 3, 0, 4, 5]\n",
        "#assert list(except_zero([0, 0, 0, 1, 0])) == [0, 0, 0, 1, 0]\n",
        "#assert list(except_zero([4, 5, 3, 1, 1])) == [1, 1, 3, 4, 5]\n",
        "#assert list(except_zero([0, 0])) == [0, 0]\n",
        "\n",
        "print(\"The mission is done! Click 'Check Solution' to earn rewards!\")"
      ]
    },
    {
      "cell_type": "markdown",
      "source": [
        "# #2 Zigzag Array\n",
        "\n",
        "Your function should create a list of lists, that represents a two-dimensional grid with the given number of rows and cols.\n",
        "\n",
        "This grid should contain the integers from start to start + rows * cols - 1 in ascending order, but the elements of every odd-index row have to be listed in descending order, so that when read in ascending order, the numbers zigzag through the two-dimensional grid.\n",
        "\n",
        "Input: Two integers - rows and columns. One optional integer - start.\n",
        "\n",
        "Output: List of lists.\n",
        "\n",
        "Examples:\n",
        "\n",
        "assert create_zigzag(3, 5) == [[1, 2, 3, 4, 5], [10, 9, 8, 7, 6], [11, 12, 13, 14, 15]]\n",
        "assert create_zigzag(5, 1) == [[1], [2], [3], [4], [5]]\n",
        "assert create_zigzag(3, 3, 5) == [[5, 6, 7], [10, 9, 8], [11, 12, 13]]\n",
        "1\n",
        "2\n",
        "3\n",
        "The mission was taken from Python CCPS 109 Fall 2018. It is taught for Ryerson Chang School of Continuing Education by Ilkka Kokkarinen"
      ],
      "metadata": {
        "id": "TOmi2QBkPgEb"
      }
    },
    {
      "cell_type": "code",
      "source": [
        "def create_zigzag(rows: int, cols: int, start: int = 1) -> list[list[int]]:\n",
        "    matrix = []\n",
        "    count = start\n",
        "    for i in range(rows):\n",
        "        row = []\n",
        "        for j in range(cols):\n",
        "            if i % 2 == 0:\n",
        "                row.append(count)\n",
        "            else:\n",
        "                row.insert(0, count)\n",
        "            count += 1\n",
        "        matrix.append(row)\n",
        "    return matrix\n",
        "\n",
        "\n",
        "print(\"Example:\")\n",
        "print(create_zigzag(3, 3, 5))\n",
        "\n",
        "# These \"asserts\" are used for self-checking\n",
        "#assert create_zigzag(3, 5) == [[1, 2, 3, 4, 5], [10, 9, 8, 7, 6], [11, 12, 13, 14, 15]]\n",
        "#assert create_zigzag(5, 1) == [[1], [2], [3], [4], [5]]\n",
        "#assert create_zigzag(3, 3, 5) == [[5, 6, 7], [10, 9, 8], [11, 12, 13]]\n",
        "\n",
        "print(\"The mission is done! Click 'Check Solution' to earn rewards!\")\n"
      ],
      "metadata": {
        "colab": {
          "base_uri": "https://localhost:8080/"
        },
        "id": "VqDFV4QZRRwN",
        "outputId": "c858dcec-80cd-415e-fab2-595d99fd90b2"
      },
      "execution_count": 6,
      "outputs": [
        {
          "output_type": "stream",
          "name": "stdout",
          "text": [
            "Example:\n",
            "[[5, 6, 7], [10, 9, 8], [11, 12, 13]]\n",
            "The mission is done! Click 'Check Solution' to earn rewards!\n"
          ]
        }
      ]
    },
    {
      "cell_type": "markdown",
      "source": [
        "# #3 Frequency Sorting\n",
        "\n",
        "Sort the given list so that its elements should be grouped and those groups end up in the decreasing frequency order, that is, the number of times element appears in the list. If two elements have the same frequency, their groups should end up according to the natural order of elements. For example: [5, 2, 4, 1, 1, 1, 3] ==> [1, 1, 1, 2, 3, 4, 5].\n",
        "\n",
        "If you want to practice more with the similar case, try Sort Array by Element Frequency mission.\n",
        "\n",
        "Input: List of integers.\n",
        "\n",
        "Output: List or another Iterable (tuple, iterator, generator).\n",
        "\n",
        "Examples:\n",
        "\n",
        "assert list(frequency_sorting([1, 2, 3, 4, 5])) == [1, 2, 3, 4, 5]\n",
        "assert list(frequency_sorting([3, 4, 11, 13, 11, 4, 4, 7, 3])) == [\n",
        "    4,\n",
        "    4,\n",
        "    4,\n",
        "    3,\n",
        "    3,\n",
        "    11,\n",
        "    11,\n",
        "    7,\n",
        "    13,\n",
        "]\n",
        "How it is used: For analyzing data using mathematical statistics and mathematical analysis, and for finding trends and predicting future changes (systems, phenomena, etc.).\n",
        "\n",
        "Preconditions:\n",
        "\n",
        "list length <= 100;\n",
        "max number <= 100."
      ],
      "metadata": {
        "id": "haqIy7x8NtXu"
      }
    },
    {
      "cell_type": "code",
      "source": [
        "from IPython.utils.text import re\n",
        "from collections.abc import Iterable\n",
        "\n",
        "def frequency_sorting(numbers: list[int]) -> Iterable[int]:\n",
        "    count = {}\n",
        "    for a, i in enumerate(numbers):\n",
        "      count[i] = count.get(i, 0) + 1\n",
        "    result = sorted(numbers, key=lambda i: (-count[i], i, numbers.index(i)))\n",
        "    return result\n",
        "\n",
        "\n",
        "print(\"Example:\")\n",
        "print(list(frequency_sorting([3, 4, 11, 13, 11, 4, 4, 7, 3])))\n",
        "\n",
        "# These \"asserts\" are used for self-checking\n",
        "#assert list(frequency_sorting([1, 2, 3, 4, 5])) == [1, 2, 3, 4, 5]\n",
        "#assert list(frequency_sorting([3, 4, 11, 13, 11, 4, 4, 7, 3])) == [\n",
        "#    4,\n",
        "#    4,\n",
        "#    4,\n",
        "#    3,\n",
        "#    3,\n",
        "#    11,\n",
        "#    11,\n",
        "#    7,\n",
        "#    13,\n",
        "#]\n",
        "\n",
        "print(\"The mission is done! Click 'Check Solution' to earn rewards!\")\n"
      ],
      "metadata": {
        "colab": {
          "base_uri": "https://localhost:8080/"
        },
        "id": "SmMR0TEzLDMG",
        "outputId": "e9fed419-1336-4c33-fbad-5982fbb1adb8"
      },
      "execution_count": 52,
      "outputs": [
        {
          "output_type": "stream",
          "name": "stdout",
          "text": [
            "Example:\n",
            "[4, 4, 4, 3, 3, 11, 11, 7, 13]\n",
            "The mission is done! Click 'Check Solution' to earn rewards!\n"
          ]
        }
      ]
    },
    {
      "cell_type": "code",
      "source": [],
      "metadata": {
        "id": "vGowl5RrP2SB"
      },
      "execution_count": null,
      "outputs": []
    }
  ]
}