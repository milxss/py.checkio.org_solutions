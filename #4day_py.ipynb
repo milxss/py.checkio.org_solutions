{
  "nbformat": 4,
  "nbformat_minor": 0,
  "metadata": {
    "colab": {
      "provenance": [],
      "authorship_tag": "ABX9TyM/zeOxrz3lqRPAwccGilAt",
      "include_colab_link": true
    },
    "kernelspec": {
      "name": "python3",
      "display_name": "Python 3"
    },
    "language_info": {
      "name": "python"
    }
  },
  "cells": [
    {
      "cell_type": "markdown",
      "metadata": {
        "id": "view-in-github",
        "colab_type": "text"
      },
      "source": [
        "<a href=\"https://colab.research.google.com/github/milxss/py.checkio.org_solutions/blob/main/%234day_py.ipynb\" target=\"_parent\"><img src=\"https://colab.research.google.com/assets/colab-badge.svg\" alt=\"Open In Colab\"/></a>"
      ]
    },
    {
      "cell_type": "markdown",
      "source": [
        "# #1 First Word (simplified)\n",
        "You are given a string and you have to find its first word.\n",
        "\n",
        "The input string consists of only English letters and spaces.\n",
        "There aren’t any spaces at the beginning and the end of the string.\n",
        "Input: A string.\n",
        "\n",
        "Output: A string.\n",
        "\n",
        "Example:\n",
        "\n",
        "assert first_word(\"Hello world\") == \"Hello\"\n",
        "assert first_word(\"a word\") == \"a\"\n",
        "assert first_word(\"greeting from CheckiO Planet\") == \"greeting\"\n",
        "assert first_word(\"hi\") == \"hi\"\n",
        "1\n",
        "2\n",
        "3\n",
        "4\n",
        "How it is used: The first word is a command in a command line.\n",
        "\n",
        "Precondition: The text can contain a-z, A-Z and spaces."
      ],
      "metadata": {
        "id": "LZS9uhYw9t3Z"
      }
    },
    {
      "cell_type": "code",
      "execution_count": 10,
      "metadata": {
        "colab": {
          "base_uri": "https://localhost:8080/"
        },
        "id": "hF47b0Uz9sRA",
        "outputId": "db29ba6c-31fc-404a-cc01-9544ab3d059c"
      },
      "outputs": [
        {
          "output_type": "stream",
          "name": "stdout",
          "text": [
            "Example:\n",
            "Hello\n"
          ]
        }
      ],
      "source": [
        "def first_word(text: str) -> str:\n",
        "    text = str.split(text)\n",
        "    return text[0]\n",
        "\n",
        "\n",
        "print(\"Example:\")\n",
        "print(first_word(\"Hello world have a nice day\"))"
      ]
    },
    {
      "cell_type": "markdown",
      "source": [
        "# #2 Number Length\n",
        "You have a non-negative integer. Try to find out how many digits it has.\n",
        "\n",
        "Input: A non-negative integer.\n",
        "\n",
        "Output: An integer.\n",
        "\n",
        "Examples:\n",
        "\n",
        "assert number_length(10) == 2\n",
        "assert number_length(0) == 1\n",
        "assert number_length(4) == 1\n",
        "assert number_length(44) == 2"
      ],
      "metadata": {
        "id": "LDesrTk9A3Xs"
      }
    },
    {
      "cell_type": "code",
      "source": [
        "def number_length(value: int) -> int:\n",
        "    # your code here\n",
        "    count = 0\n",
        "    if value == 0:\n",
        "      return 1\n",
        "    else:\n",
        "      while value != 0:\n",
        "        value //= 10\n",
        "        count +=1\n",
        "      return count\n",
        "\n",
        "print(\"Example:\")\n",
        "print(number_length(100))\n",
        "\n",
        "# These \"asserts\" are used for self-checking\n",
        "#assert number_length(10) == 2\n",
        "#assert number_length(0) == 1\n",
        "#assert number_length(4) == 1\n",
        "#assert number_length(44) == 2\n",
        "\n",
        "print(\"The mission is done! Click 'Check' to earn cool rewards!\")\n"
      ],
      "metadata": {
        "colab": {
          "base_uri": "https://localhost:8080/"
        },
        "id": "lakVJbry9tcT",
        "outputId": "882d3321-078c-444f-c9cc-e347d6d9954c"
      },
      "execution_count": 41,
      "outputs": [
        {
          "output_type": "stream",
          "name": "stdout",
          "text": [
            "Example:\n",
            "3\n",
            "The mission is done! Click 'Check' to earn cool rewards!\n"
          ]
        }
      ]
    },
    {
      "cell_type": "code",
      "source": [],
      "metadata": {
        "id": "x4qIK_KL9taJ"
      },
      "execution_count": null,
      "outputs": []
    },
    {
      "cell_type": "code",
      "source": [],
      "metadata": {
        "id": "azolMBfT9tX1"
      },
      "execution_count": null,
      "outputs": []
    },
    {
      "cell_type": "code",
      "source": [],
      "metadata": {
        "id": "IOa4ts-59tVh"
      },
      "execution_count": null,
      "outputs": []
    }
  ]
}
