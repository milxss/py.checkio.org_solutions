{
  "nbformat": 4,
  "nbformat_minor": 0,
  "metadata": {
    "colab": {
      "provenance": [],
      "authorship_tag": "ABX9TyO6grLewiKTYwuSTLbS6tgy",
      "include_colab_link": true
    },
    "kernelspec": {
      "name": "python3",
      "display_name": "Python 3"
    },
    "language_info": {
      "name": "python"
    }
  },
  "cells": [
    {
      "cell_type": "markdown",
      "metadata": {
        "id": "view-in-github",
        "colab_type": "text"
      },
      "source": [
        "<a href=\"https://colab.research.google.com/github/milxss/py.checkio.org_solutions/blob/main/%235day_py.ipynb\" target=\"_parent\"><img src=\"https://colab.research.google.com/assets/colab-badge.svg\" alt=\"Open In Colab\"/></a>"
      ]
    },
    {
      "cell_type": "markdown",
      "source": [
        "# #1 Majority\n",
        "\n",
        "We have a list of booleans. Let's check if the majority of elements are True.\n",
        "\n",
        "example\n",
        "\n",
        "Some cases worth mentioning: 1) an empty list should return False; 2) if True-s and False-s have an equal amount, function should return False.\n",
        "\n",
        "Input: A list of booleans.\n",
        "\n",
        "Output: A Boolean.\n",
        "\n",
        "Examples:\n",
        "\n",
        "assert is_majority([True, True, False, True, False]) == True\n",
        "assert is_majority([True, True, False]) == True\n",
        "assert is_majority([True, True, False, False]) == False\n",
        "assert is_majority([True, True, False, False, False]) == False"
      ],
      "metadata": {
        "id": "jWyOOA26BQ3Z"
      }
    },
    {
      "cell_type": "code",
      "execution_count": 2,
      "metadata": {
        "colab": {
          "base_uri": "https://localhost:8080/"
        },
        "id": "E9FROyiRBO7R",
        "outputId": "166256de-49a4-46e3-bfd9-5dbb4dc85807"
      },
      "outputs": [
        {
          "output_type": "stream",
          "name": "stdout",
          "text": [
            "Example:\n",
            "True\n",
            "The mission is done! Click 'Check Solution' to earn rewards!\n"
          ]
        }
      ],
      "source": [
        "def is_majority(items: list[bool]) -> bool:\n",
        "    # your code here\n",
        "    if len(items) == 0:\n",
        "        return False\n",
        "    true_count = items.count(True)\n",
        "    false_count = items.count(False)\n",
        "    if true_count > false_count:\n",
        "        return true_count > len(items) / 2\n",
        "    return false_count < len(items) / 2\n",
        "\n",
        "\n",
        "print(\"Example:\")\n",
        "print(is_majority([True, True, False, True, False]))\n",
        "\n",
        "# These \"asserts\" are used for self-checking\n",
        "#assert is_majority([True, True, False, True, False]) == True\n",
        "#assert is_majority([True, True, False]) == True\n",
        "#assert is_majority([True, True, False, False]) == False\n",
        "#assert is_majority([True, True, False, False, False]) == False\n",
        "#assert is_majority([False]) == False\n",
        "#assert is_majority([True]) == True\n",
        "#assert is_majority([]) == False\n",
        "\n",
        "print(\"The mission is done! Click 'Check Solution' to earn rewards!\")\n"
      ]
    },
    {
      "cell_type": "markdown",
      "source": [
        "# #2 Index Power\n",
        "You are given an array with positive numbers and a number N. You should find the N-th power of the element in the array with the index N. If N is outside of the array, then return -1. Don't forget that the first element has the index 0.\n",
        "\n",
        "Let's look at a few examples:\n",
        "- array = [1, 2, 3, 4] and N = 2, then the result is 32 == 9;\n",
        "- array = [1, 2, 3] and N = 3, but N is outside of the array, so the result is -1.\n",
        "\n",
        "Input: Two arguments. An array as a list of integers and a number as a integer.\n",
        "\n",
        "Output: The result as an integer.\n",
        "\n",
        "Example:\n",
        "\n",
        "assert index_power([1, 2, 3, 4], 2) == 9\n",
        "assert index_power([1, 3, 10, 100], 3) == 1000000\n",
        "assert index_power([0, 1], 0) == 1\n",
        "assert index_power([1, 2], 3) == -1\n",
        "\n",
        "How it is used: This mission teaches you how to use basic arrays and indexes when combined with simple mathematics.\n",
        "\n",
        "Precondition: 0 < len(array) ≤ 10\n",
        "0 ≤ N\n",
        "all(0 ≤ x ≤ 100 for x in array)"
      ],
      "metadata": {
        "id": "GfHTlhrPKeu0"
      }
    },
    {
      "cell_type": "code",
      "source": [
        "def index_power(ar: list[int], n: int) -> int:\n",
        "    if n < 0 or n >= len(ar):\n",
        "        return -1\n",
        "    return ar[n] ** n\n",
        "\n",
        "\n",
        "print(\"Example:\")\n",
        "print(index_power([1, 2, 3], 2))\n",
        "\n",
        "# These \"asserts\" are used for self-checking\n",
        "#assert index_power([1, 2, 3, 4], 2) == 9\n",
        "#assert index_power([1, 3, 10, 100], 3) == 1000000\n",
        "#assert index_power([0, 1], 0) == 1\n",
        "#assert index_power([1, 2], 3) == -1\n",
        "\n",
        "print(\"The mission is done! Click 'Check Solution' to earn rewards!\")\n"
      ],
      "metadata": {
        "colab": {
          "base_uri": "https://localhost:8080/"
        },
        "id": "PQp3c7RVJ8o6",
        "outputId": "06fe214d-77e6-49be-b553-027adbb7d798"
      },
      "execution_count": 3,
      "outputs": [
        {
          "output_type": "stream",
          "name": "stdout",
          "text": [
            "Example:\n",
            "9\n",
            "The mission is done! Click 'Check Solution' to earn rewards!\n"
          ]
        }
      ]
    },
    {
      "cell_type": "code",
      "source": [],
      "metadata": {
        "id": "JZrNov0ELPo7"
      },
      "execution_count": null,
      "outputs": []
    }
  ]
}