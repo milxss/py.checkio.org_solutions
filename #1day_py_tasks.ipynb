{
  "nbformat": 4,
  "nbformat_minor": 0,
  "metadata": {
    "colab": {
      "provenance": [],
      "authorship_tag": "ABX9TyPKU9wGwEqcntNAR9Vf4wK2",
      "include_colab_link": true
    },
    "kernelspec": {
      "name": "python3",
      "display_name": "Python 3"
    },
    "language_info": {
      "name": "python"
    }
  },
  "cells": [
    {
      "cell_type": "markdown",
      "metadata": {
        "id": "view-in-github",
        "colab_type": "text"
      },
      "source": [
        "<a href=\"https://colab.research.google.com/github/milxss/py.checkio.org_solutions/blob/main/%231day_py_tasks.ipynb\" target=\"_parent\"><img src=\"https://colab.research.google.com/assets/colab-badge.svg\" alt=\"Open In Colab\"/></a>"
      ]
    },
    {
      "cell_type": "markdown",
      "source": [
        "# #1 Beginning Zeros\n",
        "You have a string that consist only of digits. You need to find how many zero digits (\"0\") are at the beginning of the given string.\n",
        "\n",
        "Input: A string, that consist of digits.\n",
        "\n",
        "Output: An Int.\n",
        "\n",
        "Example:\n",
        "\n",
        "assert beginning_zeros(\"100\") == 0\n",
        "assert beginning_zeros(\"001\") == 2\n",
        "assert beginning_zeros(\"100100\") == 0\n",
        "assert beginning_zeros(\"001001\") == 2\n",
        "\n",
        "Precondition: 0-9"
      ],
      "metadata": {
        "id": "moY3yME50xav"
      }
    },
    {
      "cell_type": "code",
      "source": [
        "def beginning_zeros(a: str) -> int:\n",
        "    # your code here\n",
        "    count = 0\n",
        "    len_str = len(a)\n",
        "    a = int(a)\n",
        "\n",
        "    while a != 0:\n",
        "        a //= 10\n",
        "        count += 1\n",
        "\n",
        "    if count != len_str:\n",
        "      b = len_str-count\n",
        "    elif count == len_str:\n",
        "      b = 0\n",
        "    \n",
        "    return b\n",
        "\n",
        "\n",
        "print(\"Example: 000000000000000000010\")\n",
        "print(\"there are \" + str(beginning_zeros(\"000000000000000000010\")) + \" 0's in the beginning of this string\")\n",
        "\n",
        "# These \"asserts\" are used for self-checking\n",
        "# assert beginning_zeros(\"100\") == 0\n",
        "# assert beginning_zeros(\"001\") == 2\n",
        "# assert beginning_zeros(\"100100\") == 0\n",
        "# assert beginning_zeros(\"001001\") == 2\n",
        "# assert beginning_zeros(\"012345679\") == 1\n",
        "# assert beginning_zeros(\"0000\") == 4\n",
        "\n",
        "print(\"The mission is done! Click 'Check Solution' to earn rewards!\")\n"
      ],
      "metadata": {
        "id": "3JWZ5UlcxKEv",
        "colab": {
          "base_uri": "https://localhost:8080/"
        },
        "outputId": "8e6d80f4-ad7a-42a3-9827-de3ee919badb"
      },
      "execution_count": 9,
      "outputs": [
        {
          "output_type": "stream",
          "name": "stdout",
          "text": [
            "Example: 000000000000000000010\n",
            "there are 19 0's in the beginning of this string\n",
            "The mission is done! Click 'Check Solution' to earn rewards!\n"
          ]
        }
      ]
    },
    {
      "cell_type": "markdown",
      "source": [
        "# #2 Max Digit\n",
        "You have a number and you need to determine which digit in this number is the biggest.\n",
        "\n",
        "Input: A positive integer.\n",
        "\n",
        "Output: An integer (0-9).\n",
        "\n",
        "Examples:\n",
        "\n",
        "assert max_digit(0) == 0\n",
        "assert max_digit(52) == 5\n",
        "assert max_digit(634) == 6\n",
        "assert max_digit(1) == 1"
      ],
      "metadata": {
        "id": "LNpvOSTn2Eps"
      }
    },
    {
      "cell_type": "code",
      "source": [
        "def max_digit(value: int) -> int:\n",
        "    # your code here\n",
        "    list_of_digits = [int(i) for i in str(value)]\n",
        "    list_of_digits.sort()\n",
        "    return list_of_digits[-1]\n",
        "\n",
        "print(\"Example:\")\n",
        "print(max_digit(75429))"
      ],
      "metadata": {
        "colab": {
          "base_uri": "https://localhost:8080/"
        },
        "id": "ZYbjds-n2E_f",
        "outputId": "5f429345-e53e-435a-d92b-c001de0866a2"
      },
      "execution_count": null,
      "outputs": [
        {
          "output_type": "stream",
          "name": "stdout",
          "text": [
            "Example:\n",
            "9\n"
          ]
        }
      ]
    },
    {
      "cell_type": "markdown",
      "source": [
        "# #3 Sum Numbers\n",
        "In a given text you need to sum the numbers while excluding any digits that form part of a word.\n",
        "\n",
        "The text consists of numbers, spaces and letters from the English alphabet.\n",
        "\n",
        "Input: A string.\n",
        "\n",
        "Output: An int.\n",
        "\n",
        "Example:\n",
        "\n",
        "assert sum_numbers(\"hi\") == 0\n",
        "assert sum_numbers(\"who is 1st here\") == 0\n",
        "assert sum_numbers(\"my numbers is 2\") == 2\n",
        "assert (\n",
        "    sum_numbers(\n",
        "        \"This picture is an oil on canvas painting by Danish artist Anna Petersen between 1845 and 1910 year\"\n",
        "    )\n",
        "    == 3755\n",
        ")"
      ],
      "metadata": {
        "id": "Rz4-Ex984xBY"
      }
    },
    {
      "cell_type": "code",
      "source": [
        "def sum_numbers(text: str) -> int:\n",
        "    # your code here\n",
        "    res = [int(i) for i in text.split() if i.isdigit()]\n",
        "    a = sum(res)\n",
        "    return a\n",
        "\n",
        "\n",
        "print(\"Example:\")\n",
        "print(sum_numbers(\"hi63276   and 9\"))\n",
        "\n",
        "# These \"asserts\" are used for self-checking\n",
        "# assert sum_numbers(\"hi\") == 0\n",
        "# assert sum_numbers(\"who is 1st here\") == 0\n",
        "# assert sum_numbers(\"my numbers is 2\") == 2\n",
        "# assert (\n",
        "#    sum_numbers(\n",
        "#        \"This picture is an oil on canvas painting by Danish artist Anna Petersen between 1845 and 1910 year\"\n",
        "#    )\n",
        "#    == 3755\n",
        "#)\n",
        "# assert sum_numbers(\"5 plus 6 is\") == 11\n",
        "# assert sum_numbers(\"\") == 0\n",
        "\n",
        "print(\"The mission is done! Click 'Check Solution' to earn rewards!\")\n"
      ],
      "metadata": {
        "id": "CofHJ5m94v7-",
        "colab": {
          "base_uri": "https://localhost:8080/"
        },
        "outputId": "651525c3-afc8-4df4-c1d8-7229a82cf104"
      },
      "execution_count": 20,
      "outputs": [
        {
          "output_type": "stream",
          "name": "stdout",
          "text": [
            "Example:\n",
            "9\n",
            "The mission is done! Click 'Check Solution' to earn rewards!\n"
          ]
        }
      ]
    },
    {
      "cell_type": "code",
      "source": [],
      "metadata": {
        "id": "qFkL41ks3Zkq"
      },
      "execution_count": null,
      "outputs": []
    }
  ]
}