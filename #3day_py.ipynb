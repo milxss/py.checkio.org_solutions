{
  "nbformat": 4,
  "nbformat_minor": 0,
  "metadata": {
    "colab": {
      "provenance": [],
      "authorship_tag": "ABX9TyOwiztcT/FRMpQGkNoQ8kAf",
      "include_colab_link": true
    },
    "kernelspec": {
      "name": "python3",
      "display_name": "Python 3"
    },
    "language_info": {
      "name": "python"
    }
  },
  "cells": [
    {
      "cell_type": "markdown",
      "metadata": {
        "id": "view-in-github",
        "colab_type": "text"
      },
      "source": [
        "<a href=\"https://colab.research.google.com/github/milxss/py.checkio.org_solutions/blob/main/%233day_py.ipynb\" target=\"_parent\"><img src=\"https://colab.research.google.com/assets/colab-badge.svg\" alt=\"Open In Colab\"/></a>"
      ]
    },
    {
      "cell_type": "markdown",
      "source": [
        "#Is Even\n",
        "\n",
        "Check if the given number is even or not. Your function should return True if the number is even, and False if the number is odd.\n",
        "\n",
        "Input: An integer.\n",
        "\n",
        "Output: Bool.\n",
        "\n",
        "Example:\n",
        "\n",
        "assert is_even(2) == True\n",
        "assert is_even(5) == False\n",
        "assert is_even(0) == True"
      ],
      "metadata": {
        "id": "23EKDoOj_e50"
      }
    },
    {
      "cell_type": "code",
      "execution_count": 5,
      "metadata": {
        "id": "o_bdESIfeXdY",
        "colab": {
          "base_uri": "https://localhost:8080/"
        },
        "outputId": "007659bc-0d23-4f6d-f126-4a7ce9ecf85a"
      },
      "outputs": [
        {
          "output_type": "stream",
          "name": "stdout",
          "text": [
            "Example:\n",
            "True\n",
            "The mission is done! Click 'Check Solution' to earn rewards!\n"
          ]
        }
      ],
      "source": [
        "def is_even(num: int) -> bool:\n",
        "    # your code here\n",
        "    if (num % 2) == 0:\n",
        "      return True\n",
        "    return False\n",
        "\n",
        "\n",
        "print(\"Example:\")\n",
        "print(is_even(2078))\n",
        "\n",
        "# These \"asserts\" are used for self-checking\n",
        "# assert is_even(2) == True\n",
        "# assert is_even(5) == False\n",
        "# assert is_even(0) == True\n",
        "\n",
        "print(\"The mission is done! Click 'Check Solution' to earn rewards!\")"
      ]
    },
    {
      "cell_type": "markdown",
      "source": [
        "#Backward String\n",
        "\n",
        "You should return a given string in reverse order.\n",
        "\n",
        "Input: A string.\n",
        "\n",
        "Output: A string.\n",
        "\n",
        "Example:\n",
        "\n",
        "assert backward_string(\"val\") == \"lav\"\n",
        "assert backward_string(\"\") == \"\"\n",
        "assert backward_string(\"ohho\") == \"ohho\"\n",
        "assert backward_string(\"123456789\") == \"987654321\""
      ],
      "metadata": {
        "id": "pHvig6pAAsyh"
      }
    },
    {
      "cell_type": "code",
      "source": [
        "def backward_string(val: str) -> str:\n",
        "    # your code here\n",
        "    return val[::-1]\n",
        "\n",
        "\n",
        "print(\"Example:\")\n",
        "print(backward_string(\"val\"))\n",
        "\n",
        "# These \"asserts\" are used for self-checking\n",
        "#assert backward_string(\"val\") == \"lav\"\n",
        "#assert backward_string(\"\") == \"\"\n",
        "#assert backward_string(\"ohho\") == \"ohho\"\n",
        "#assert backward_string(\"123456789\") == \"987654321\"\n",
        "\n",
        "print(\"The mission is done! Click 'Check Solution' to earn rewards!\")"
      ],
      "metadata": {
        "colab": {
          "base_uri": "https://localhost:8080/"
        },
        "id": "_bRicoP1AEQh",
        "outputId": "ff535e2c-8142-4a2c-d5c1-da952dc9d1a7"
      },
      "execution_count": 14,
      "outputs": [
        {
          "output_type": "stream",
          "name": "stdout",
          "text": [
            "Example:\n",
            "lav\n",
            "The mission is done! Click 'Check Solution' to earn rewards!\n"
          ]
        }
      ]
    },
    {
      "cell_type": "markdown",
      "source": [
        "#Just Fizz!\n",
        "You should write a function that will receive a positive integer and return: \"Fizz\" if the number is divisible by 3 (3, 6, 9 ...) otherwise convert the given number to a string (2 -> \"2\").\n",
        "\n",
        "Input: An integer.\n",
        "\n",
        "Output: String.\n",
        "\n",
        "Examples:\n",
        "\n",
        "assert checkio(15) == \"Fizz\"\n",
        "assert checkio(6) == \"Fizz\"\n",
        "assert checkio(10) == \"10\"\n",
        "assert checkio(7) == \"7\""
      ],
      "metadata": {
        "id": "FQnLqyWnCP3y"
      }
    },
    {
      "cell_type": "code",
      "source": [
        "def checkio(num: int) -> str:\n",
        "    # your code here\n",
        "    return \"\"\n",
        "\n",
        "\n",
        "print(\"Example:\")\n",
        "print(checkio(3))\n",
        "\n",
        "# These \"asserts\" are used for self-checking\n",
        "#assert checkio(15) == \"Fizz\"\n",
        "#assert checkio(6) == \"Fizz\"\n",
        "#assert checkio(10) == \"10\"\n",
        "#assert checkio(7) == \"7\"\n",
        "\n",
        "print(\"The mission is done! Click 'Check Solution' to earn rewards!\")\n"
      ],
      "metadata": {
        "id": "umrCXjnOBMdi"
      },
      "execution_count": null,
      "outputs": []
    }
  ]
}