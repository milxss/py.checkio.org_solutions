{
  "nbformat": 4,
  "nbformat_minor": 0,
  "metadata": {
    "colab": {
      "provenance": [],
      "authorship_tag": "ABX9TyPvWigvTi01AIkxyqVAhnVx",
      "include_colab_link": true
    },
    "kernelspec": {
      "name": "python3",
      "display_name": "Python 3"
    },
    "language_info": {
      "name": "python"
    }
  },
  "cells": [
    {
      "cell_type": "markdown",
      "metadata": {
        "id": "view-in-github",
        "colab_type": "text"
      },
      "source": [
        "<a href=\"https://colab.research.google.com/github/milxss/py.checkio.org_solutions/blob/main/%232day_py.ipynb\" target=\"_parent\"><img src=\"https://colab.research.google.com/assets/colab-badge.svg\" alt=\"Open In Colab\"/></a>"
      ]
    },
    {
      "cell_type": "markdown",
      "source": [
        "#Multiply\n",
        "Write a function that will receive 2 numbers as input and it should return the multiplication of these 2 numbers.\n",
        "\n",
        "Input: Two arguments. Both are of type int.\n",
        "\n",
        "Output: Int.\n",
        "\n",
        "Examples:\n",
        "\n",
        "assert mult_two(3, 2) == 6\n",
        "assert mult_two(0, 1) == 0"
      ],
      "metadata": {
        "id": "P6SVzBvWoBnV"
      }
    },
    {
      "cell_type": "code",
      "execution_count": 4,
      "metadata": {
        "colab": {
          "base_uri": "https://localhost:8080/"
        },
        "id": "hYCbUQBVn2NW",
        "outputId": "51bfe3ae-20a3-4894-e83f-ff19623ca0ce"
      },
      "outputs": [
        {
          "output_type": "stream",
          "name": "stdout",
          "text": [
            "Example\n",
            "20\n",
            "The first mission is done! Click 'Check' to earn cool rewards!\n"
          ]
        }
      ],
      "source": [
        "import numpy as np\n",
        "def mult_two(a: int, b: int) -> int:\n",
        "    return np.product([a, b])\n",
        "\n",
        "\n",
        "print(\"Example\")\n",
        "print(mult_two(10, 2))\n",
        "\n",
        "#assert mult_two(3, 2) == 6\n",
        "#assert mult_two(0, 1) == 0\n",
        "\n",
        "print(\"The first mission is done! Click 'Check' to earn cool rewards!\")\n"
      ]
    },
    {
      "cell_type": "markdown",
      "source": [
        "# Acceptable Password I\n",
        "You are at the beginning of a password series. Every mission is based on the previous one. The missions that follow will become slightly more complex.\n",
        "\n",
        "In this mission, you need to create a password verification function.\n",
        "\n",
        "The verification condition is:\n",
        "\n",
        "the length should be bigger than 6.\n",
        "Input: A string.\n",
        "\n",
        "Output: A bool.\n",
        "\n",
        "Examples:\n",
        "\n",
        "assert is_acceptable_password(\"short\") == False\n",
        "assert is_acceptable_password(\"muchlonger\") == True\n",
        "assert is_acceptable_password(\"ashort\") == False"
      ],
      "metadata": {
        "id": "jWWrDCDvo9aN"
      }
    },
    {
      "cell_type": "code",
      "source": [
        "def is_acceptable_password(password: str) -> bool:\n",
        "    # your code here\n",
        "    if len(password) > 6:\n",
        "      return True\n",
        "    return False\n",
        "\n",
        "\n",
        "print(\"Example:\")\n",
        "print(is_acceptable_password(\"sixchar\"))\n",
        "\n",
        "# These \"asserts\" are used for self-checking\n",
        "# assert is_acceptable_password(\"short\") == False\n",
        "# assert is_acceptable_password(\"muchlonger\") == True\n",
        "# assert is_acceptable_password(\"ashort\") == False\n",
        "\n",
        "print(\"The mission is done! Click 'Check Solution' to earn rewards!\")"
      ],
      "metadata": {
        "colab": {
          "base_uri": "https://localhost:8080/"
        },
        "id": "b8TgkuBRoTp9",
        "outputId": "a00a94fa-3c3d-4037-f07f-c3bab8c1e849"
      },
      "execution_count": 6,
      "outputs": [
        {
          "output_type": "stream",
          "name": "stdout",
          "text": [
            "Example:\n",
            "True\n",
            "The mission is done! Click 'Check Solution' to earn rewards!\n"
          ]
        }
      ]
    },
    {
      "cell_type": "code",
      "source": [],
      "metadata": {
        "id": "feoF0mIzdt3e"
      },
      "execution_count": null,
      "outputs": []
    }
  ]
}